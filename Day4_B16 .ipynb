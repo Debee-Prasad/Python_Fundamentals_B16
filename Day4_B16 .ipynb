{
 "cells": [
  {
   "cell_type": "code",
   "execution_count": null,
   "metadata": {},
   "outputs": [],
   "source": [
    "introduction to list datatype:"
   ]
  },
  {
   "cell_type": "code",
   "execution_count": null,
   "metadata": {},
   "outputs": [],
   "source": []
  },
  {
   "cell_type": "code",
   "execution_count": null,
   "metadata": {},
   "outputs": [],
   "source": [
    "Definition:A list is a collection of similar items in a particular order"
   ]
  },
  {
   "cell_type": "code",
   "execution_count": null,
   "metadata": {},
   "outputs": [],
   "source": [
    "list should be defined within a square([]) bracket."
   ]
  },
  {
   "cell_type": "code",
   "execution_count": null,
   "metadata": {},
   "outputs": [],
   "source": [
    "list is classified as a mutable datatypes:\n",
    "    we can able to reassign or alter the data once it gets assigned."
   ]
  },
  {
   "cell_type": "code",
   "execution_count": 67,
   "metadata": {},
   "outputs": [
    {
     "name": "stdout",
     "output_type": "stream",
     "text": [
      "['vivek', 'pradeep', 'rashid', 'laxmi', 'jyotsna', 'ashok', 'spandan']\n"
     ]
    }
   ],
   "source": [
    "students=['vivek','pradeep','rashid','laxmi','jyotsna','ashok','spandan'] #indices of the elements of list are 0,1,2,3,4,5,6\n",
    "print(students)"
   ]
  },
  {
   "cell_type": "code",
   "execution_count": 68,
   "metadata": {},
   "outputs": [
    {
     "data": {
      "text/plain": [
       "list"
      ]
     },
     "execution_count": 68,
     "metadata": {},
     "output_type": "execute_result"
    }
   ],
   "source": [
    "type(students)"
   ]
  },
  {
   "cell_type": "code",
   "execution_count": null,
   "metadata": {},
   "outputs": [],
   "source": [
    "introduction to indexing:\n",
    "    indexing will be 0,1,2,3,4,5,6 from the beginning \n",
    "    indexing will be -7,-6,-5,-4,-3,-2,-1 from the end"
   ]
  },
  {
   "cell_type": "raw",
   "metadata": {},
   "source": [
    "req:how to access the name 'pradeep' from the list."
   ]
  },
  {
   "cell_type": "code",
   "execution_count": 69,
   "metadata": {},
   "outputs": [
    {
     "name": "stdout",
     "output_type": "stream",
     "text": [
      "pradeep\n"
     ]
    }
   ],
   "source": [
    "print(students[1])"
   ]
  },
  {
   "cell_type": "code",
   "execution_count": 70,
   "metadata": {
    "scrolled": true
   },
   "outputs": [
    {
     "name": "stdout",
     "output_type": "stream",
     "text": [
      "pradeep\n"
     ]
    }
   ],
   "source": [
    "print(students[-6])"
   ]
  },
  {
   "cell_type": "code",
   "execution_count": null,
   "metadata": {},
   "outputs": [],
   "source": [
    "1.req: how to reassign a new element to an index of the existing list.\n",
    "    i.e. 'santosh' in place of pradeep.(mutable)"
   ]
  },
  {
   "cell_type": "code",
   "execution_count": 71,
   "metadata": {},
   "outputs": [
    {
     "name": "stdout",
     "output_type": "stream",
     "text": [
      "['vivek', 'santosh', 'rashid', 'laxmi', 'jyotsna', 'ashok', 'spandan']\n"
     ]
    }
   ],
   "source": [
    "students[1]='santosh'\n",
    "print(students)"
   ]
  },
  {
   "cell_type": "code",
   "execution_count": null,
   "metadata": {},
   "outputs": [],
   "source": [
    "2.req: how to add a new element to the existing list i.e. vasundhara "
   ]
  },
  {
   "cell_type": "code",
   "execution_count": 72,
   "metadata": {},
   "outputs": [
    {
     "name": "stdout",
     "output_type": "stream",
     "text": [
      "['vivek', 'santosh', 'rashid', 'laxmi', 'jyotsna', 'ashok', 'spandan', 'vasundhara']\n"
     ]
    }
   ],
   "source": [
    "students.append('vasundhara')\n",
    "print(students)"
   ]
  },
  {
   "cell_type": "code",
   "execution_count": 73,
   "metadata": {},
   "outputs": [
    {
     "name": "stdout",
     "output_type": "stream",
     "text": [
      "1\n"
     ]
    }
   ],
   "source": [
    "print(students.index('santosh'))"
   ]
  },
  {
   "cell_type": "code",
   "execution_count": null,
   "metadata": {},
   "outputs": [],
   "source": [
    "index() is a method in which atleast one argument or the element of the list or tuple must be passed and it returns the index \n",
    "value of the list or tuple "
   ]
  },
  {
   "cell_type": "code",
   "execution_count": 74,
   "metadata": {},
   "outputs": [
    {
     "name": "stdout",
     "output_type": "stream",
     "text": [
      "6\n"
     ]
    }
   ],
   "source": [
    "print(students.index('spandan'))"
   ]
  },
  {
   "cell_type": "code",
   "execution_count": null,
   "metadata": {},
   "outputs": [],
   "source": [
    "#by default append() will be adding the element at the end of the list."
   ]
  },
  {
   "cell_type": "code",
   "execution_count": null,
   "metadata": {},
   "outputs": [],
   "source": [
    "req: adding an element at a particular index in the list i.e. rohit ------> index 3"
   ]
  },
  {
   "cell_type": "code",
   "execution_count": 75,
   "metadata": {},
   "outputs": [
    {
     "name": "stdout",
     "output_type": "stream",
     "text": [
      "['vivek', 'santosh', 'rashid', 'rohit', 'laxmi', 'jyotsna', 'ashok', 'spandan', 'vasundhara']\n"
     ]
    }
   ],
   "source": [
    "students.insert(3,'rohit')\n",
    "print(students)"
   ]
  },
  {
   "cell_type": "code",
   "execution_count": null,
   "metadata": {},
   "outputs": [],
   "source": [
    "#append  (syntax:list_name.append(element)) -vs- insert  (syntax:list_name.insert(index,element))\n",
    "1.append method can be used for adding new element at the end of the list. \n",
    "insert method is the method which inserts a given element at a given index in a list.\n",
    "2.append method takes one argument (which you have to insert in the list)\n",
    "insert method take two elements (first will be the position of the element and second will be the element itself)\n",
    "note:1.by insert method we can insert element at any position ,but till be stored just after the last element position\n",
    "     2.by append as well as insert method ,you can add  another list to the original list."
   ]
  },
  {
   "cell_type": "code",
   "execution_count": 76,
   "metadata": {},
   "outputs": [
    {
     "name": "stdout",
     "output_type": "stream",
     "text": [
      "['vivek', 'santosh', 'rashid', 'rohit', 'laxmi', 'jyotsna', 'ashok', 'spandan', 'vasundhara', ['rahul', 'priya', 'mukesh']]\n"
     ]
    }
   ],
   "source": [
    "new_students=['rahul','priya','mukesh']\n",
    "students.append(new_students)\n",
    "print(students)"
   ]
  },
  {
   "cell_type": "code",
   "execution_count": 78,
   "metadata": {},
   "outputs": [
    {
     "name": "stdout",
     "output_type": "stream",
     "text": [
      "['vivek', 'santosh', ['rahul', 'priya', 'mukesh'], 'rashid', 'laxmi', 'jyotsna', 'ashok', 'spandan', 'vasundhara', ['rahul', 'priya', 'mukesh']]\n"
     ]
    }
   ],
   "source": [
    "new_students=['rahul','priya','mukesh']\n",
    "students.insert(2,new_students)\n",
    "print(students)"
   ]
  },
  {
   "cell_type": "code",
   "execution_count": null,
   "metadata": {},
   "outputs": [],
   "source": [
    "req: to delete an element from a list."
   ]
  },
  {
   "cell_type": "code",
   "execution_count": 79,
   "metadata": {},
   "outputs": [
    {
     "name": "stdout",
     "output_type": "stream",
     "text": [
      "['vivek', 'santosh', ['rahul', 'priya', 'mukesh'], 'rashid', 'laxmi', 'jyotsna', 'ashok', 'spandan', 'vasundhara']\n"
     ]
    }
   ],
   "source": [
    "del students[9]\n",
    "print(students)"
   ]
  },
  {
   "cell_type": "code",
   "execution_count": null,
   "metadata": {},
   "outputs": [],
   "source": [
    "req:deleting the element from the list by using pop() method."
   ]
  },
  {
   "cell_type": "code",
   "execution_count": 80,
   "metadata": {},
   "outputs": [
    {
     "name": "stdout",
     "output_type": "stream",
     "text": [
      "['vivek', 'santosh', ['rahul', 'priya', 'mukesh'], 'rashid', 'laxmi', 'jyotsna', 'ashok', 'spandan']\n"
     ]
    }
   ],
   "source": [
    "students.pop() #pop will be deleting the element at the last by default\n",
    "print(students)"
   ]
  },
  {
   "cell_type": "code",
   "execution_count": null,
   "metadata": {},
   "outputs": [],
   "source": [
    "req:deleting a particular element at any position from the list by pop() method"
   ]
  },
  {
   "cell_type": "code",
   "execution_count": 81,
   "metadata": {},
   "outputs": [
    {
     "name": "stdout",
     "output_type": "stream",
     "text": [
      "['vivek', 'santosh', ['rahul', 'priya', 'mukesh'], 'laxmi', 'jyotsna', 'ashok', 'spandan']\n"
     ]
    }
   ],
   "source": [
    "students.pop(3)\n",
    "print(students)"
   ]
  },
  {
   "cell_type": "code",
   "execution_count": null,
   "metadata": {},
   "outputs": [],
   "source": [
    "pop will not be deleting the item permanently, it will store carbon copy of the element deleted internally."
   ]
  },
  {
   "cell_type": "code",
   "execution_count": 82,
   "metadata": {},
   "outputs": [
    {
     "name": "stdout",
     "output_type": "stream",
     "text": [
      "Laxmi\n"
     ]
    }
   ],
   "source": [
    "print(students[3].title())"
   ]
  },
  {
   "cell_type": "code",
   "execution_count": null,
   "metadata": {},
   "outputs": [],
   "source": [
    "#further enhancement of the code"
   ]
  },
  {
   "cell_type": "code",
   "execution_count": 85,
   "metadata": {
    "scrolled": true
   },
   "outputs": [
    {
     "name": "stdout",
     "output_type": "stream",
     "text": [
      "keep up the good work, Laxmi.\n"
     ]
    }
   ],
   "source": [
    "print(f\"keep up the good work, {students[3].title()}.\")"
   ]
  },
  {
   "cell_type": "code",
   "execution_count": null,
   "metadata": {},
   "outputs": [],
   "source": [
    "#accessing elememts  of a list within another list."
   ]
  },
  {
   "cell_type": "code",
   "execution_count": 91,
   "metadata": {},
   "outputs": [
    {
     "name": "stdout",
     "output_type": "stream",
     "text": [
      "keep up the good work , Mukesh.\n"
     ]
    }
   ],
   "source": [
    "print(f\"keep up the good work , {students[2][2].title()}.\")"
   ]
  },
  {
   "cell_type": "code",
   "execution_count": null,
   "metadata": {},
   "outputs": [],
   "source": [
    "del[]:del removes element at a particular index or slices a range of item from\n",
    "    the list (syntax:del list_name[index which you want to delete])\n",
    "    It is a fast way to remove elements from a list.so, we can use it instead of the remove() method."
   ]
  },
  {
   "cell_type": "code",
   "execution_count": 94,
   "metadata": {},
   "outputs": [
    {
     "name": "stdout",
     "output_type": "stream",
     "text": [
      "[10, 20, 40]\n"
     ]
    }
   ],
   "source": [
    "list=[10,20,30,40]\n",
    "del list[2]\n",
    "print(list)"
   ]
  },
  {
   "cell_type": "code",
   "execution_count": 116,
   "metadata": {},
   "outputs": [
    {
     "name": "stdout",
     "output_type": "stream",
     "text": [
      "['A', 'C', 'D', 'E', 'F', 'G', 'H']\n",
      "['A', 'C', 'F', 'G', 'H']\n"
     ]
    }
   ],
   "source": [
    "list1=['A','B','C','D','E','F','G','H']\n",
    "del list1[1]\n",
    "print(list1)\n",
    "del list1[2:4]#starting index of slicing is included but ending index is not included\n",
    "print(list1)"
   ]
  },
  {
   "cell_type": "code",
   "execution_count": 115,
   "metadata": {},
   "outputs": [
    {
     "name": "stdout",
     "output_type": "stream",
     "text": [
      "[2, 3, 4, 5, 6]\n",
      "[2, 3, 4]\n"
     ]
    }
   ],
   "source": [
    "list2=[1,2,3,4,5,6]\n",
    "del list2[:1]\n",
    "print(list2)\n",
    "del list2[3:]\n",
    "print(list2)"
   ]
  },
  {
   "cell_type": "code",
   "execution_count": null,
   "metadata": {},
   "outputs": [],
   "source": [
    "pop():pop removes the element from the last by default or removes element from a specific index of the list\n",
    "    and returns it.(syntax:list_name.pop(index))"
   ]
  },
  {
   "cell_type": "code",
   "execution_count": 104,
   "metadata": {},
   "outputs": [
    {
     "data": {
      "text/plain": [
       "20"
      ]
     },
     "execution_count": 104,
     "metadata": {},
     "output_type": "execute_result"
    }
   ],
   "source": [
    "list=[10,20,30,40,50]\n",
    "list.pop(1)"
   ]
  },
  {
   "cell_type": "code",
   "execution_count": null,
   "metadata": {},
   "outputs": [],
   "source": [
    "remove():this method is available on lists. It searches for the value which is passed as an argument in the list from \n",
    "    the very first item till it matches and removes that specified value from the list ."
   ]
  },
  {
   "cell_type": "code",
   "execution_count": 99,
   "metadata": {},
   "outputs": [
    {
     "name": "stdout",
     "output_type": "stream",
     "text": [
      "[10, 30, 50]\n"
     ]
    }
   ],
   "source": [
    "list.remove(40)\n",
    "print(list)"
   ]
  },
  {
   "cell_type": "code",
   "execution_count": 92,
   "metadata": {},
   "outputs": [],
   "source": []
  },
  {
   "cell_type": "code",
   "execution_count": null,
   "metadata": {},
   "outputs": [],
   "source": []
  },
  {
   "cell_type": "code",
   "execution_count": null,
   "metadata": {},
   "outputs": [],
   "source": []
  }
 ],
 "metadata": {
  "kernelspec": {
   "display_name": "Python 3",
   "language": "python",
   "name": "python3"
  },
  "language_info": {
   "codemirror_mode": {
    "name": "ipython",
    "version": 3
   },
   "file_extension": ".py",
   "mimetype": "text/x-python",
   "name": "python",
   "nbconvert_exporter": "python",
   "pygments_lexer": "ipython3",
   "version": "3.7.0"
  }
 },
 "nbformat": 4,
 "nbformat_minor": 2
}
