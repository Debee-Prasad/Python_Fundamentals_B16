{
 "cells": [
  {
   "cell_type": "code",
   "execution_count": 2,
   "metadata": {},
   "outputs": [
    {
     "ename": "SyntaxError",
     "evalue": "invalid syntax (<ipython-input-2-0fb2b6fa68da>, line 1)",
     "output_type": "error",
     "traceback": [
      "\u001b[1;36m  File \u001b[1;32m\"<ipython-input-2-0fb2b6fa68da>\"\u001b[1;36m, line \u001b[1;32m1\u001b[0m\n\u001b[1;33m    Introduction to f strings:\u001b[0m\n\u001b[1;37m                  ^\u001b[0m\n\u001b[1;31mSyntaxError\u001b[0m\u001b[1;31m:\u001b[0m invalid syntax\n"
     ]
    }
   ],
   "source": [
    "Introduction to f strings:"
   ]
  },
  {
   "cell_type": "code",
   "execution_count": 4,
   "metadata": {},
   "outputs": [
    {
     "name": "stdout",
     "output_type": "stream",
     "text": [
      "debee prasad rath\n"
     ]
    }
   ],
   "source": [
    "first_name=\"debee\"\n",
    "middle_name=\"prasad\"\n",
    "last_name=\"rath\"\n",
    "full_name=f\"{first_name} {middle_name} {last_name}\"\n",
    "print(full_name)"
   ]
  },
  {
   "cell_type": "code",
   "execution_count": null,
   "metadata": {},
   "outputs": [],
   "source": [
    "General syntax:\n",
    "    f\"{placeholder1} {placeholder2} {placeholder3}\""
   ]
  },
  {
   "cell_type": "code",
   "execution_count": 5,
   "metadata": {},
   "outputs": [
    {
     "name": "stdout",
     "output_type": "stream",
     "text": [
      "Debee Prasad Rath\n"
     ]
    }
   ],
   "source": [
    "#enhancement of the code:\n",
    "print(full_name.title())"
   ]
  },
  {
   "cell_type": "code",
   "execution_count": 6,
   "metadata": {},
   "outputs": [
    {
     "name": "stdout",
     "output_type": "stream",
     "text": [
      "debee prasad rath\n"
     ]
    }
   ],
   "source": [
    "f_name=\"debee\"\n",
    "m_name=\"prasad\"\n",
    "l_name=\"rath\"\n",
    "full_name=f\"{f_name} {m_name} {l_name}\"\n",
    "print(full_name)"
   ]
  },
  {
   "cell_type": "code",
   "execution_count": 7,
   "metadata": {},
   "outputs": [
    {
     "name": "stdout",
     "output_type": "stream",
     "text": [
      "Debee Prasad Rath\n"
     ]
    }
   ],
   "source": [
    "f_name=\"debee\"\n",
    "m_name=\"prasad\"\n",
    "l_name=\"rath\"\n",
    "full_name=f\"{f_name} {m_name} {l_name}\"\n",
    "print(full_name.title())"
   ]
  },
  {
   "cell_type": "markdown",
   "metadata": {},
   "source": [
    "messge=f\"keep up the good work,{(full_name.title())}\"\n",
    "print(message)"
   ]
  },
  {
   "cell_type": "code",
   "execution_count": 18,
   "metadata": {},
   "outputs": [
    {
     "name": "stdout",
     "output_type": "stream",
     "text": [
      "Keep up the good work, 'Debee Prasad Rath'.\n"
     ]
    }
   ],
   "source": [
    "message=f\"Keep up the good work, '{(full_name.title())}'.\"\n",
    "print(message)"
   ]
  },
  {
   "cell_type": "code",
   "execution_count": 19,
   "metadata": {},
   "outputs": [
    {
     "name": "stdout",
     "output_type": "stream",
     "text": [
      "python java pearl ruby c c++\n"
     ]
    }
   ],
   "source": [
    "#adding space to a string:\n",
    "print('python','java','pearl','ruby','c','c++')"
   ]
  },
  {
   "cell_type": "code",
   "execution_count": 20,
   "metadata": {},
   "outputs": [
    {
     "name": "stdout",
     "output_type": "stream",
     "text": [
      "\n",
      "python \n",
      "java \n",
      "pearl \n",
      "ruby \n",
      "c \n",
      "c++\n"
     ]
    }
   ],
   "source": [
    "print('\\npython','\\njava','\\npearl','\\nruby','\\nc','\\nc++')"
   ]
  },
  {
   "cell_type": "code",
   "execution_count": 21,
   "metadata": {},
   "outputs": [
    {
     "name": "stdout",
     "output_type": "stream",
     "text": [
      "\tpython\n"
     ]
    }
   ],
   "source": [
    "print('\\tpython')"
   ]
  },
  {
   "cell_type": "code",
   "execution_count": 24,
   "metadata": {},
   "outputs": [
    {
     "name": "stdout",
     "output_type": "stream",
     "text": [
      "Programming_Languages: \n",
      "\t\tpython \n",
      "\t\tjava \n",
      "\t\tpearl \n",
      "\t\truby \n",
      "\t\tc \n",
      "\t\tc++\n"
     ]
    }
   ],
   "source": [
    "print('Programming_Languages:','\\n\\t\\tpython','\\n\\t\\tjava','\\n\\t\\tpearl','\\n\\t\\truby','\\n\\t\\tc','\\n\\t\\tc++')"
   ]
  }
 ],
 "metadata": {
  "kernelspec": {
   "display_name": "Python 3",
   "language": "python",
   "name": "python3"
  },
  "language_info": {
   "codemirror_mode": {
    "name": "ipython",
    "version": 3
   },
   "file_extension": ".py",
   "mimetype": "text/x-python",
   "name": "python",
   "nbconvert_exporter": "python",
   "pygments_lexer": "ipython3",
   "version": "3.7.0"
  }
 },
 "nbformat": 4,
 "nbformat_minor": 2
}
