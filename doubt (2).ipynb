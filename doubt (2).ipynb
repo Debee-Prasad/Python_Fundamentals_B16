{
 "cells": [
  {
   "cell_type": "code",
   "execution_count": 4,
   "metadata": {},
   "outputs": [
    {
     "name": "stdout",
     "output_type": "stream",
     "text": [
      "['pradeep', 'rashid', 'laxmi', 'jyotsna', 'ashok', 'spandan', 'rahul']\n"
     ]
    }
   ],
   "source": [
    "students=['pradeep','rashid','laxmi','jyotsna','ashok','spandan'] \n",
    "students.insert(500,'rahul')\n",
    "print(students)"
   ]
  },
  {
   "cell_type": "code",
   "execution_count": null,
   "metadata": {},
   "outputs": [],
   "source": [
    "how the above insertion is happening in the list even if we don't know the location at which the index is 500 , which is \n",
    "out of the storage of the list.we can insert an item from 0 to 5 ,which we can see the change ,but if the insertion is 6 or even \n",
    "much more the insertion at the end to the last element of the list."
   ]
  }
 ],
 "metadata": {
  "kernelspec": {
   "display_name": "Python 3",
   "language": "python",
   "name": "python3"
  },
  "language_info": {
   "codemirror_mode": {
    "name": "ipython",
    "version": 3
   },
   "file_extension": ".py",
   "mimetype": "text/x-python",
   "name": "python",
   "nbconvert_exporter": "python",
   "pygments_lexer": "ipython3",
   "version": "3.7.0"
  }
 },
 "nbformat": 4,
 "nbformat_minor": 2
}
